{
 "cells": [
  {
   "cell_type": "markdown",
   "metadata": {},
   "source": [
    "First Project Practice"
   ]
  },
  {
   "cell_type": "code",
   "execution_count": 1,
   "metadata": {},
   "outputs": [],
   "source": [
    "from bs4 import BeautifulSoup\n",
    "import requests"
   ]
  },
  {
   "cell_type": "code",
   "execution_count": 2,
   "metadata": {},
   "outputs": [],
   "source": [
    "url = ('https://en.wikipedia.org/wiki/List_of_countries_by_traffic-related_death_rate')\n",
    "\n",
    "page = requests.get(url)\n",
    "\n",
    "soup = BeautifulSoup(page.text, 'html')"
   ]
  },
  {
   "cell_type": "code",
   "execution_count": 3,
   "metadata": {},
   "outputs": [],
   "source": [
    "table = soup.find('table')\n",
    "\n",
    "header = table.find('tr')"
   ]
  },
  {
   "cell_type": "code",
   "execution_count": 4,
   "metadata": {},
   "outputs": [
    {
     "name": "stdout",
     "output_type": "stream",
     "text": [
      "['Country/region', 'Continent', 'per100,000inhabitants[7][1]', 'per1billionvehicle-km[8]', 'Total[a][7][1]', 'Date[b]']\n"
     ]
    }
   ],
   "source": [
    "headerTitles = [title.text.split() for title in header]\n",
    "headerTitles = [titles for titles in headerTitles if titles] #remove empty\n",
    "flat_headerTitles = [item for sublist in headerTitles for item in sublist] #ipagawas ang array himoon siyag list\n",
    "\n",
    "combined_header = ''\n",
    "new_header=[]\n",
    "\n",
    "for item in flat_headerTitles:\n",
    "    if item =='per1':\n",
    "        combined_header+=item\n",
    "    elif item =='billionvehicle-km[8]':\n",
    "        combined_header+=item\n",
    "    else:\n",
    "        if combined_header:\n",
    "            new_header.append(combined_header)  # Append combined header before adding new item\n",
    "            combined_header = \"\"  # Reset combined header for next iteration\n",
    "        new_header.append(item)  # Append the current item\n",
    "\n",
    "# Append any remaining combined header\n",
    "if combined_header:\n",
    "    new_header.append(combined_header)\n",
    "\n",
    "print(new_header)"
   ]
  },
  {
   "cell_type": "code",
   "execution_count": 5,
   "metadata": {},
   "outputs": [],
   "source": [
    "import pandas as pd"
   ]
  },
  {
   "cell_type": "code",
   "execution_count": 6,
   "metadata": {},
   "outputs": [
    {
     "data": {
      "text/html": [
       "<div>\n",
       "<style scoped>\n",
       "    .dataframe tbody tr th:only-of-type {\n",
       "        vertical-align: middle;\n",
       "    }\n",
       "\n",
       "    .dataframe tbody tr th {\n",
       "        vertical-align: top;\n",
       "    }\n",
       "\n",
       "    .dataframe thead th {\n",
       "        text-align: right;\n",
       "    }\n",
       "</style>\n",
       "<table border=\"1\" class=\"dataframe\">\n",
       "  <thead>\n",
       "    <tr style=\"text-align: right;\">\n",
       "      <th></th>\n",
       "      <th>Country/region</th>\n",
       "      <th>Continent</th>\n",
       "      <th>per100,000inhabitants[7][1]</th>\n",
       "      <th>per1billionvehicle-km[8]</th>\n",
       "      <th>Total[a][7][1]</th>\n",
       "      <th>Date[b]</th>\n",
       "    </tr>\n",
       "  </thead>\n",
       "  <tbody>\n",
       "  </tbody>\n",
       "</table>\n",
       "</div>"
      ],
      "text/plain": [
       "Empty DataFrame\n",
       "Columns: [Country/region, Continent, per100,000inhabitants[7][1], per1billionvehicle-km[8], Total[a][7][1], Date[b]]\n",
       "Index: []"
      ]
     },
     "execution_count": 6,
     "metadata": {},
     "output_type": "execute_result"
    }
   ],
   "source": [
    "df = pd.DataFrame(columns=new_header)\n",
    "df"
   ]
  },
  {
   "cell_type": "code",
   "execution_count": 7,
   "metadata": {},
   "outputs": [
    {
     "data": {
      "text/html": [
       "<div>\n",
       "<style scoped>\n",
       "    .dataframe tbody tr th:only-of-type {\n",
       "        vertical-align: middle;\n",
       "    }\n",
       "\n",
       "    .dataframe tbody tr th {\n",
       "        vertical-align: top;\n",
       "    }\n",
       "\n",
       "    .dataframe thead th {\n",
       "        text-align: right;\n",
       "    }\n",
       "</style>\n",
       "<table border=\"1\" class=\"dataframe\">\n",
       "  <thead>\n",
       "    <tr style=\"text-align: right;\">\n",
       "      <th></th>\n",
       "      <th>Country/region</th>\n",
       "      <th>Continent</th>\n",
       "      <th>per100,000inhabitants[7][1]</th>\n",
       "      <th>per1billionvehicle-km[8]</th>\n",
       "      <th>Total[a][7][1]</th>\n",
       "      <th>Date[b]</th>\n",
       "    </tr>\n",
       "  </thead>\n",
       "  <tbody>\n",
       "    <tr>\n",
       "      <th>0</th>\n",
       "      <td>[Global]</td>\n",
       "      <td>[]</td>\n",
       "      <td>[16.7]</td>\n",
       "      <td>[]</td>\n",
       "      <td>[1,282,150]</td>\n",
       "      <td>[2019]</td>\n",
       "    </tr>\n",
       "    <tr>\n",
       "      <th>1</th>\n",
       "      <td>[Africa]</td>\n",
       "      <td>[]</td>\n",
       "      <td>[27.2]</td>\n",
       "      <td>[]</td>\n",
       "      <td>[297,087]</td>\n",
       "      <td>[2019]</td>\n",
       "    </tr>\n",
       "    <tr>\n",
       "      <th>2</th>\n",
       "      <td>[Eastern, Mediterranean]</td>\n",
       "      <td>[]</td>\n",
       "      <td>[17.8]</td>\n",
       "      <td>[]</td>\n",
       "      <td>[126,958]</td>\n",
       "      <td>[2019]</td>\n",
       "    </tr>\n",
       "    <tr>\n",
       "      <th>3</th>\n",
       "      <td>[Western, Pacific]</td>\n",
       "      <td>[]</td>\n",
       "      <td>[16.4]</td>\n",
       "      <td>[]</td>\n",
       "      <td>[317,393]</td>\n",
       "      <td>[2019]</td>\n",
       "    </tr>\n",
       "    <tr>\n",
       "      <th>4</th>\n",
       "      <td>[Southeast, Asia]</td>\n",
       "      <td>[]</td>\n",
       "      <td>[15.8]</td>\n",
       "      <td>[]</td>\n",
       "      <td>[317,069]</td>\n",
       "      <td>[2019]</td>\n",
       "    </tr>\n",
       "    <tr>\n",
       "      <th>...</th>\n",
       "      <td>...</td>\n",
       "      <td>...</td>\n",
       "      <td>...</td>\n",
       "      <td>...</td>\n",
       "      <td>...</td>\n",
       "      <td>...</td>\n",
       "    </tr>\n",
       "    <tr>\n",
       "      <th>193</th>\n",
       "      <td>[Venezuela]</td>\n",
       "      <td>[South, America]</td>\n",
       "      <td>[39.0]</td>\n",
       "      <td>[]</td>\n",
       "      <td>[11,127]</td>\n",
       "      <td>[2019]</td>\n",
       "    </tr>\n",
       "    <tr>\n",
       "      <th>194</th>\n",
       "      <td>[Vietnam]</td>\n",
       "      <td>[Asia]</td>\n",
       "      <td>[30.6]</td>\n",
       "      <td>[]</td>\n",
       "      <td>[29,475]</td>\n",
       "      <td>[2019]</td>\n",
       "    </tr>\n",
       "    <tr>\n",
       "      <th>195</th>\n",
       "      <td>[Yemen]</td>\n",
       "      <td>[Asia]</td>\n",
       "      <td>[29.4]</td>\n",
       "      <td>[]</td>\n",
       "      <td>[8,561]</td>\n",
       "      <td>[2019]</td>\n",
       "    </tr>\n",
       "    <tr>\n",
       "      <th>196</th>\n",
       "      <td>[Zambia]</td>\n",
       "      <td>[Africa]</td>\n",
       "      <td>[20.5]</td>\n",
       "      <td>[]</td>\n",
       "      <td>[3,654]</td>\n",
       "      <td>[2019]</td>\n",
       "    </tr>\n",
       "    <tr>\n",
       "      <th>197</th>\n",
       "      <td>[Zimbabwe]</td>\n",
       "      <td>[Africa]</td>\n",
       "      <td>[41.2]</td>\n",
       "      <td>[]</td>\n",
       "      <td>[6,037]</td>\n",
       "      <td>[2019]</td>\n",
       "    </tr>\n",
       "  </tbody>\n",
       "</table>\n",
       "<p>198 rows × 6 columns</p>\n",
       "</div>"
      ],
      "text/plain": [
       "               Country/region         Continent per100,000inhabitants[7][1]  \\\n",
       "0                    [Global]                []                      [16.7]   \n",
       "1                    [Africa]                []                      [27.2]   \n",
       "2    [Eastern, Mediterranean]                []                      [17.8]   \n",
       "3          [Western, Pacific]                []                      [16.4]   \n",
       "4           [Southeast, Asia]                []                      [15.8]   \n",
       "..                        ...               ...                         ...   \n",
       "193               [Venezuela]  [South, America]                      [39.0]   \n",
       "194                 [Vietnam]            [Asia]                      [30.6]   \n",
       "195                   [Yemen]            [Asia]                      [29.4]   \n",
       "196                  [Zambia]          [Africa]                      [20.5]   \n",
       "197                [Zimbabwe]          [Africa]                      [41.2]   \n",
       "\n",
       "    per1billionvehicle-km[8] Total[a][7][1] Date[b]  \n",
       "0                         []    [1,282,150]  [2019]  \n",
       "1                         []      [297,087]  [2019]  \n",
       "2                         []      [126,958]  [2019]  \n",
       "3                         []      [317,393]  [2019]  \n",
       "4                         []      [317,069]  [2019]  \n",
       "..                       ...            ...     ...  \n",
       "193                       []       [11,127]  [2019]  \n",
       "194                       []       [29,475]  [2019]  \n",
       "195                       []        [8,561]  [2019]  \n",
       "196                       []        [3,654]  [2019]  \n",
       "197                       []        [6,037]  [2019]  \n",
       "\n",
       "[198 rows x 6 columns]"
      ]
     },
     "execution_count": 7,
     "metadata": {},
     "output_type": "execute_result"
    }
   ],
   "source": [
    "columnData = table.find_all('tr')\n",
    "\n",
    "for row in columnData[1:]:\n",
    "    rowData = row.find_all('td')\n",
    "    indivRowData = [data.text.split() for data in rowData]\n",
    "\n",
    "    lenght = len(df)\n",
    "    df.loc[lenght] =indivRowData\n",
    "\n",
    "df\n"
   ]
  },
  {
   "cell_type": "code",
   "execution_count": 8,
   "metadata": {},
   "outputs": [],
   "source": [
    "df.to_csv(r\"C:\\Users\\HUAWEI\\Desktop\\WebScraping Project\\DeatRate.csv\")"
   ]
  },
  {
   "cell_type": "code",
   "execution_count": null,
   "metadata": {},
   "outputs": [],
   "source": []
  }
 ],
 "metadata": {
  "kernelspec": {
   "display_name": "Python 3",
   "language": "python",
   "name": "python3"
  },
  "language_info": {
   "codemirror_mode": {
    "name": "ipython",
    "version": 3
   },
   "file_extension": ".py",
   "mimetype": "text/x-python",
   "name": "python",
   "nbconvert_exporter": "python",
   "pygments_lexer": "ipython3",
   "version": "3.11.4"
  }
 },
 "nbformat": 4,
 "nbformat_minor": 2
}
